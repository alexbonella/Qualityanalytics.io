{
 "cells": [
  {
   "cell_type": "markdown",
   "metadata": {},
   "source": [
    "# Importando librerias "
   ]
  },
  {
   "cell_type": "code",
   "execution_count": 1,
   "metadata": {},
   "outputs": [],
   "source": [
    "import pandas as pd\n",
    "import matplotlib.pyplot as plt\n",
    "import seaborn as sns \n",
    "%matplotlib inline"
   ]
  },
  {
   "cell_type": "code",
   "execution_count": 2,
   "metadata": {},
   "outputs": [],
   "source": [
    "archivo=pd.read_csv('path_to_prueba_historico.csv')"
   ]
  },
  {
   "cell_type": "code",
   "execution_count": 3,
   "metadata": {},
   "outputs": [
    {
     "data": {
      "text/html": [
       "<div>\n",
       "<style scoped>\n",
       "    .dataframe tbody tr th:only-of-type {\n",
       "        vertical-align: middle;\n",
       "    }\n",
       "\n",
       "    .dataframe tbody tr th {\n",
       "        vertical-align: top;\n",
       "    }\n",
       "\n",
       "    .dataframe thead th {\n",
       "        text-align: right;\n",
       "    }\n",
       "</style>\n",
       "<table border=\"1\" class=\"dataframe\">\n",
       "  <thead>\n",
       "    <tr style=\"text-align: right;\">\n",
       "      <th></th>\n",
       "      <th>product</th>\n",
       "      <th>program</th>\n",
       "      <th>station_key_market</th>\n",
       "      <th>creative_key</th>\n",
       "      <th>spend</th>\n",
       "      <th>type</th>\n",
       "      <th>id</th>\n",
       "      <th>time</th>\n",
       "      <th>value</th>\n",
       "    </tr>\n",
       "  </thead>\n",
       "  <tbody>\n",
       "    <tr>\n",
       "      <th>0</th>\n",
       "      <td>PurpleBricks.com</td>\n",
       "      <td>Classic Rock</td>\n",
       "      <td>WNNJ - 0</td>\n",
       "      <td>ZPUR0037000_UGH_PHONE_NUMBER_RADIO_30_MIX</td>\n",
       "      <td>540</td>\n",
       "      <td>Radio - P12+</td>\n",
       "      <td>Week3_5280</td>\n",
       "      <td>2018-10-15 13:18:00 UTC</td>\n",
       "      <td>0.00</td>\n",
       "    </tr>\n",
       "    <tr>\n",
       "      <th>1</th>\n",
       "      <td>PurpleBricks.com</td>\n",
       "      <td>Jerry Springer</td>\n",
       "      <td>CW - Tampa</td>\n",
       "      <td>Car Wash / License number</td>\n",
       "      <td>365</td>\n",
       "      <td>TV - HH</td>\n",
       "      <td>Week3_0184</td>\n",
       "      <td>2018-09-25 07:38:00 UTC</td>\n",
       "      <td>0.30</td>\n",
       "    </tr>\n",
       "    <tr>\n",
       "      <th>2</th>\n",
       "      <td>PurpleBricks.com</td>\n",
       "      <td>blackish</td>\n",
       "      <td>CW - Tampa</td>\n",
       "      <td>Car Wash / License number</td>\n",
       "      <td>366</td>\n",
       "      <td>TV - HH</td>\n",
       "      <td>Week3_0274</td>\n",
       "      <td>2018-09-25 18:56:00 UTC</td>\n",
       "      <td>0.00</td>\n",
       "    </tr>\n",
       "    <tr>\n",
       "      <th>3</th>\n",
       "      <td>PurpleBricks.com</td>\n",
       "      <td>Two and a Half Men</td>\n",
       "      <td>CW - Tampa</td>\n",
       "      <td>Car Wash / License number</td>\n",
       "      <td>367</td>\n",
       "      <td>TV - HH</td>\n",
       "      <td>Week3_0321</td>\n",
       "      <td>2018-09-25 22:42:00 UTC</td>\n",
       "      <td>9.08</td>\n",
       "    </tr>\n",
       "    <tr>\n",
       "      <th>4</th>\n",
       "      <td>PurpleBricks.com</td>\n",
       "      <td>The King of Queens</td>\n",
       "      <td>CW - Tampa</td>\n",
       "      <td>Car Wash / License number</td>\n",
       "      <td>368</td>\n",
       "      <td>TV - HH</td>\n",
       "      <td>Week3_0411</td>\n",
       "      <td>2018-09-26 17:57:00 UTC</td>\n",
       "      <td>0.00</td>\n",
       "    </tr>\n",
       "  </tbody>\n",
       "</table>\n",
       "</div>"
      ],
      "text/plain": [
       "            product             program station_key_market  \\\n",
       "0  PurpleBricks.com        Classic Rock           WNNJ - 0   \n",
       "1  PurpleBricks.com      Jerry Springer         CW - Tampa   \n",
       "2  PurpleBricks.com            blackish         CW - Tampa   \n",
       "3  PurpleBricks.com  Two and a Half Men         CW - Tampa   \n",
       "4  PurpleBricks.com  The King of Queens         CW - Tampa   \n",
       "\n",
       "                                creative_key  spend          type          id  \\\n",
       "0  ZPUR0037000_UGH_PHONE_NUMBER_RADIO_30_MIX    540  Radio - P12+  Week3_5280   \n",
       "1                  Car Wash / License number    365       TV - HH  Week3_0184   \n",
       "2                  Car Wash / License number    366       TV - HH  Week3_0274   \n",
       "3                  Car Wash / License number    367       TV - HH  Week3_0321   \n",
       "4                  Car Wash / License number    368       TV - HH  Week3_0411   \n",
       "\n",
       "                      time  value  \n",
       "0  2018-10-15 13:18:00 UTC   0.00  \n",
       "1  2018-09-25 07:38:00 UTC   0.30  \n",
       "2  2018-09-25 18:56:00 UTC   0.00  \n",
       "3  2018-09-25 22:42:00 UTC   9.08  \n",
       "4  2018-09-26 17:57:00 UTC   0.00  "
      ]
     },
     "execution_count": 3,
     "metadata": {},
     "output_type": "execute_result"
    }
   ],
   "source": [
    "archivo.head()"
   ]
  },
  {
   "cell_type": "code",
   "execution_count": null,
   "metadata": {},
   "outputs": [],
   "source": []
  },
  {
   "cell_type": "markdown",
   "metadata": {},
   "source": [
    "# Periodo de estudio"
   ]
  },
  {
   "cell_type": "markdown",
   "metadata": {},
   "source": [
    "`Primera fecha registrada`"
   ]
  },
  {
   "cell_type": "code",
   "execution_count": 4,
   "metadata": {},
   "outputs": [
    {
     "data": {
      "text/plain": [
       "'2017-09-14 21:34:00 UTC'"
      ]
     },
     "execution_count": 4,
     "metadata": {},
     "output_type": "execute_result"
    }
   ],
   "source": [
    "archivo['time'].min() # Primera fecha registrada "
   ]
  },
  {
   "cell_type": "markdown",
   "metadata": {},
   "source": [
    "`Primera fecha registrada`"
   ]
  },
  {
   "cell_type": "code",
   "execution_count": 5,
   "metadata": {},
   "outputs": [
    {
     "data": {
      "text/plain": [
       "'2018-11-12 23:33:00 UTC'"
      ]
     },
     "execution_count": 5,
     "metadata": {},
     "output_type": "execute_result"
    }
   ],
   "source": [
    "archivo['time'].max() # Ultima fecha "
   ]
  },
  {
   "cell_type": "code",
   "execution_count": null,
   "metadata": {},
   "outputs": [],
   "source": []
  },
  {
   "cell_type": "markdown",
   "metadata": {},
   "source": [
    "# Informacion del dataset\n",
    "\n",
    "Podemos observar que nuestra informacion esta limpia y no tenemos datos faltantes ."
   ]
  },
  {
   "cell_type": "code",
   "execution_count": 6,
   "metadata": {},
   "outputs": [
    {
     "name": "stdout",
     "output_type": "stream",
     "text": [
      "<class 'pandas.core.frame.DataFrame'>\n",
      "RangeIndex: 38840 entries, 0 to 38839\n",
      "Data columns (total 9 columns):\n",
      "product               38840 non-null object\n",
      "program               38840 non-null object\n",
      "station_key_market    38840 non-null object\n",
      "creative_key          38840 non-null object\n",
      "spend                 38840 non-null int64\n",
      "type                  38840 non-null object\n",
      "id                    38840 non-null object\n",
      "time                  38840 non-null object\n",
      "value                 38840 non-null float64\n",
      "dtypes: float64(1), int64(1), object(7)\n",
      "memory usage: 2.7+ MB\n"
     ]
    }
   ],
   "source": [
    "archivo.info()"
   ]
  },
  {
   "cell_type": "markdown",
   "metadata": {},
   "source": [
    "# Programas registrados en nuestra base de datos "
   ]
  },
  {
   "cell_type": "code",
   "execution_count": 7,
   "metadata": {},
   "outputs": [
    {
     "data": {
      "text/plain": [
       "4010"
      ]
     },
     "execution_count": 7,
     "metadata": {},
     "output_type": "execute_result"
    }
   ],
   "source": [
    "archivo['program'].nunique()"
   ]
  },
  {
   "cell_type": "markdown",
   "metadata": {},
   "source": [
    "# Top 10 de programas con mas registros "
   ]
  },
  {
   "cell_type": "code",
   "execution_count": 8,
   "metadata": {},
   "outputs": [
    {
     "data": {
      "text/plain": [
       "Classic Rock                   1987\n",
       "Country                        1748\n",
       "Classic Hits                   1405\n",
       "AC Full Panel Non-Billboard    1370\n",
       "R&B Non-Billboard              1078\n",
       "AC Full Panel                   860\n",
       "News/Talk                       855\n",
       "Top Forty Full Panel            428\n",
       "DATELINE MF                     281\n",
       "Mainstream Rock                 220\n",
       "Name: program, dtype: int64"
      ]
     },
     "execution_count": 8,
     "metadata": {},
     "output_type": "execute_result"
    }
   ],
   "source": [
    "archivo['program'].value_counts().head(10)"
   ]
  },
  {
   "cell_type": "markdown",
   "metadata": {},
   "source": [
    "# Estaciones de mercado claves "
   ]
  },
  {
   "cell_type": "code",
   "execution_count": 9,
   "metadata": {},
   "outputs": [
    {
     "data": {
      "text/plain": [
       "309"
      ]
     },
     "execution_count": 9,
     "metadata": {},
     "output_type": "execute_result"
    }
   ],
   "source": [
    "archivo['station_key_market'].nunique()"
   ]
  },
  {
   "cell_type": "markdown",
   "metadata": {},
   "source": [
    "# Top 10 de estaciones claves "
   ]
  },
  {
   "cell_type": "code",
   "execution_count": 10,
   "metadata": {},
   "outputs": [
    {
     "data": {
      "text/plain": [
       "FOX TELEVISION NETWORK-KTTV-TV - Los Angeles     1965\n",
       "INDY-KDOC-TV - Los Angeles                        951\n",
       "CW TELEVISION NETWORK-KTLA-TV - Los Angeles       861\n",
       "ABC TELEVISION NETWORK-KESQ-TV - Palm Springs     851\n",
       "CBS TELEVISION NETWORK-KCBS-TV - Los Angeles      800\n",
       "NBC TELEVISION NETWORK-KNBC-TV - Los Angeles      788\n",
       "FOX TELEVISION NETWORK-KDFX-TV - Palm Springs     716\n",
       "ABC TELEVISION NETWORK-KABC-TV - Los Angeles      709\n",
       "NBC TELEVISION NETWORK-KMIR-TV - Palm Springs     641\n",
       "FOX TELEVISION NETWORK-KMPH-TV - Fresno           634\n",
       "Name: station_key_market, dtype: int64"
      ]
     },
     "execution_count": 10,
     "metadata": {},
     "output_type": "execute_result"
    }
   ],
   "source": [
    "archivo['station_key_market'].value_counts().head(10)"
   ]
  },
  {
   "cell_type": "markdown",
   "metadata": {},
   "source": [
    "# Top 10 de las estaciones que generan mas valor\n",
    "\n",
    "Ahora debemos analizar los datos de `creative_key` para analizar cual tiene mayor peso en el analisis ."
   ]
  },
  {
   "cell_type": "code",
   "execution_count": 11,
   "metadata": {},
   "outputs": [
    {
     "data": {
      "text/html": [
       "<div>\n",
       "<style scoped>\n",
       "    .dataframe tbody tr th:only-of-type {\n",
       "        vertical-align: middle;\n",
       "    }\n",
       "\n",
       "    .dataframe tbody tr th {\n",
       "        vertical-align: top;\n",
       "    }\n",
       "\n",
       "    .dataframe thead th {\n",
       "        text-align: right;\n",
       "    }\n",
       "</style>\n",
       "<table border=\"1\" class=\"dataframe\">\n",
       "  <thead>\n",
       "    <tr style=\"text-align: right;\">\n",
       "      <th></th>\n",
       "      <th>spend</th>\n",
       "      <th>value</th>\n",
       "    </tr>\n",
       "    <tr>\n",
       "      <th>station_key_market</th>\n",
       "      <th></th>\n",
       "      <th></th>\n",
       "    </tr>\n",
       "  </thead>\n",
       "  <tbody>\n",
       "    <tr>\n",
       "      <th>ABC TELEVISION NETWORK-WABC-TV - New York</th>\n",
       "      <td>554300</td>\n",
       "      <td>9682.09</td>\n",
       "    </tr>\n",
       "    <tr>\n",
       "      <th>FOX TELEVISION NETWORK-KTTV-TV - Los Angeles</th>\n",
       "      <td>1590045</td>\n",
       "      <td>8876.94</td>\n",
       "    </tr>\n",
       "    <tr>\n",
       "      <th>FOX TELEVISION NETWORK-WNYW-TV - New York</th>\n",
       "      <td>913080</td>\n",
       "      <td>8810.52</td>\n",
       "    </tr>\n",
       "    <tr>\n",
       "      <th>NBC TELEVISION NETWORK-WNBC-TV - New York</th>\n",
       "      <td>471695</td>\n",
       "      <td>7920.78</td>\n",
       "    </tr>\n",
       "    <tr>\n",
       "      <th>INDY-KDOC-TV - Los Angeles</th>\n",
       "      <td>94645</td>\n",
       "      <td>7156.49</td>\n",
       "    </tr>\n",
       "    <tr>\n",
       "      <th>CBS TELEVISION NETWORK-WCBS-TV - New York</th>\n",
       "      <td>511400</td>\n",
       "      <td>7131.65</td>\n",
       "    </tr>\n",
       "    <tr>\n",
       "      <th>CW TELEVISION NETWORK-WPIX-TV - New York</th>\n",
       "      <td>394200</td>\n",
       "      <td>5872.58</td>\n",
       "    </tr>\n",
       "    <tr>\n",
       "      <th>CW TELEVISION NETWORK-KTLA-TV - Los Angeles</th>\n",
       "      <td>878325</td>\n",
       "      <td>3795.53</td>\n",
       "    </tr>\n",
       "    <tr>\n",
       "      <th>FOX TELEVISION NETWORK-KMPH-TV - Fresno</th>\n",
       "      <td>66363</td>\n",
       "      <td>3635.99</td>\n",
       "    </tr>\n",
       "    <tr>\n",
       "      <th>NBC TELEVISION NETWORK-KSEE-TV - Fresno</th>\n",
       "      <td>54390</td>\n",
       "      <td>3607.91</td>\n",
       "    </tr>\n",
       "  </tbody>\n",
       "</table>\n",
       "</div>"
      ],
      "text/plain": [
       "                                                spend    value\n",
       "station_key_market                                            \n",
       "ABC TELEVISION NETWORK-WABC-TV - New York      554300  9682.09\n",
       "FOX TELEVISION NETWORK-KTTV-TV - Los Angeles  1590045  8876.94\n",
       "FOX TELEVISION NETWORK-WNYW-TV - New York      913080  8810.52\n",
       "NBC TELEVISION NETWORK-WNBC-TV - New York      471695  7920.78\n",
       "INDY-KDOC-TV - Los Angeles                      94645  7156.49\n",
       "CBS TELEVISION NETWORK-WCBS-TV - New York      511400  7131.65\n",
       "CW TELEVISION NETWORK-WPIX-TV - New York       394200  5872.58\n",
       "CW TELEVISION NETWORK-KTLA-TV - Los Angeles    878325  3795.53\n",
       "FOX TELEVISION NETWORK-KMPH-TV - Fresno         66363  3635.99\n",
       "NBC TELEVISION NETWORK-KSEE-TV - Fresno         54390  3607.91"
      ]
     },
     "execution_count": 11,
     "metadata": {},
     "output_type": "execute_result"
    }
   ],
   "source": [
    "cadena_clave=archivo[['station_key_market','spend','value']].groupby(['station_key_market']).sum()\n",
    "cadena_clave.sort_values(by=['value'],ascending=False).head(10)"
   ]
  },
  {
   "cell_type": "markdown",
   "metadata": {},
   "source": [
    "# Creative key"
   ]
  },
  {
   "cell_type": "code",
   "execution_count": 12,
   "metadata": {},
   "outputs": [
    {
     "data": {
      "text/plain": [
       "78"
      ]
     },
     "execution_count": 12,
     "metadata": {},
     "output_type": "execute_result"
    }
   ],
   "source": [
    "archivo['creative_key'].nunique()"
   ]
  },
  {
   "cell_type": "markdown",
   "metadata": {},
   "source": [
    "# Top 10 de creative key"
   ]
  },
  {
   "cell_type": "code",
   "execution_count": 13,
   "metadata": {},
   "outputs": [
    {
     "data": {
      "text/plain": [
       "ZPUR0018000H                                 10441\n",
       "ZPUR0016000H                                  6023\n",
       "ZPUR0037000_UGH_PHONE_NUMBER_RADIO_30_MIX     5304\n",
       "ZPUR0039000_WORDS_PHONE_NUMBER_30             5249\n",
       "Car Wash / License number                     2079\n",
       "Pool / License number / H                     2043\n",
       "ZPUR0028000H                                  1111\n",
       "ZPUR0027000H                                  1059\n",
       "ZPUR0001000H                                   867\n",
       "Car Wash / Phone number /                      821\n",
       "Name: creative_key, dtype: int64"
      ]
     },
     "execution_count": 13,
     "metadata": {},
     "output_type": "execute_result"
    }
   ],
   "source": [
    "archivo['creative_key'].value_counts().head(10)"
   ]
  },
  {
   "cell_type": "markdown",
   "metadata": {},
   "source": [
    "# Top 30 de creative key que generan mas valor\n",
    "\n",
    "En esta categoria debemos observar que tenemos unos `ID` muy diferentes  a los que hemos observado anteriormente por lo que vamos a necesitar hacer uso del otro archivo anexo que tenemos a la mano `creative` en donde podemos relacionar a que estacion pertenecen."
   ]
  },
  {
   "cell_type": "code",
   "execution_count": 14,
   "metadata": {},
   "outputs": [
    {
     "data": {
      "text/html": [
       "<div>\n",
       "<style scoped>\n",
       "    .dataframe tbody tr th:only-of-type {\n",
       "        vertical-align: middle;\n",
       "    }\n",
       "\n",
       "    .dataframe tbody tr th {\n",
       "        vertical-align: top;\n",
       "    }\n",
       "\n",
       "    .dataframe thead th {\n",
       "        text-align: right;\n",
       "    }\n",
       "</style>\n",
       "<table border=\"1\" class=\"dataframe\">\n",
       "  <thead>\n",
       "    <tr style=\"text-align: right;\">\n",
       "      <th></th>\n",
       "      <th>spend</th>\n",
       "      <th>value</th>\n",
       "    </tr>\n",
       "    <tr>\n",
       "      <th>creative_key</th>\n",
       "      <th></th>\n",
       "      <th></th>\n",
       "    </tr>\n",
       "  </thead>\n",
       "  <tbody>\n",
       "    <tr>\n",
       "      <th>ZPUR0018000H</th>\n",
       "      <td>4052458</td>\n",
       "      <td>66422.8800</td>\n",
       "    </tr>\n",
       "    <tr>\n",
       "      <th>ZPUR0016000H</th>\n",
       "      <td>3202042</td>\n",
       "      <td>24458.2300</td>\n",
       "    </tr>\n",
       "    <tr>\n",
       "      <th>ZPUR0027000H</th>\n",
       "      <td>1400580</td>\n",
       "      <td>22616.3000</td>\n",
       "    </tr>\n",
       "    <tr>\n",
       "      <th>ZPUR0028000H</th>\n",
       "      <td>1580635</td>\n",
       "      <td>20081.3300</td>\n",
       "    </tr>\n",
       "    <tr>\n",
       "      <th>ZPUR0039000_WORDS_PHONE_NUMBER_30</th>\n",
       "      <td>2398227</td>\n",
       "      <td>17240.2930</td>\n",
       "    </tr>\n",
       "    <tr>\n",
       "      <th>ZPUR0037000_UGH_PHONE_NUMBER_RADIO_30_MIX</th>\n",
       "      <td>2578737</td>\n",
       "      <td>16454.4700</td>\n",
       "    </tr>\n",
       "    <tr>\n",
       "      <th>Pool / License number / H</th>\n",
       "      <td>932288</td>\n",
       "      <td>11201.9000</td>\n",
       "    </tr>\n",
       "    <tr>\n",
       "      <th>Car Wash / License number</th>\n",
       "      <td>947511</td>\n",
       "      <td>9680.1700</td>\n",
       "    </tr>\n",
       "    <tr>\n",
       "      <th>Pool / Phone number / HD</th>\n",
       "      <td>331854</td>\n",
       "      <td>3745.4645</td>\n",
       "    </tr>\n",
       "    <tr>\n",
       "      <th>ZPUR0001000H</th>\n",
       "      <td>730375</td>\n",
       "      <td>3592.4200</td>\n",
       "    </tr>\n",
       "    <tr>\n",
       "      <th>Car Wash / Phone number /</th>\n",
       "      <td>342581</td>\n",
       "      <td>2870.3180</td>\n",
       "    </tr>\n",
       "    <tr>\n",
       "      <th>0</th>\n",
       "      <td>22082</td>\n",
       "      <td>2069.2400</td>\n",
       "    </tr>\n",
       "    <tr>\n",
       "      <th>ZPUR0004000H</th>\n",
       "      <td>321320</td>\n",
       "      <td>1585.2200</td>\n",
       "    </tr>\n",
       "    <tr>\n",
       "      <th>PURPLEBR</th>\n",
       "      <td>604</td>\n",
       "      <td>1388.3600</td>\n",
       "    </tr>\n",
       "    <tr>\n",
       "      <th>PURPLEBRICKS</th>\n",
       "      <td>61445</td>\n",
       "      <td>871.6200</td>\n",
       "    </tr>\n",
       "    <tr>\n",
       "      <th>RIVERSIDE</th>\n",
       "      <td>20560</td>\n",
       "      <td>603.0800</td>\n",
       "    </tr>\n",
       "    <tr>\n",
       "      <th>ZPUR0018000</th>\n",
       "      <td>41890</td>\n",
       "      <td>601.2900</td>\n",
       "    </tr>\n",
       "    <tr>\n",
       "      <th>ZPUR0009000H</th>\n",
       "      <td>148995</td>\n",
       "      <td>541.2000</td>\n",
       "    </tr>\n",
       "    <tr>\n",
       "      <th>BASEBALL</th>\n",
       "      <td>360</td>\n",
       "      <td>501.6700</td>\n",
       "    </tr>\n",
       "    <tr>\n",
       "      <th>PRPLBRKSBB</th>\n",
       "      <td>61270</td>\n",
       "      <td>363.1100</td>\n",
       "    </tr>\n",
       "    <tr>\n",
       "      <th>ZPUR0010000H</th>\n",
       "      <td>111840</td>\n",
       "      <td>345.8400</td>\n",
       "    </tr>\n",
       "    <tr>\n",
       "      <th>PBGENBB2018</th>\n",
       "      <td>8215</td>\n",
       "      <td>320.8000</td>\n",
       "    </tr>\n",
       "    <tr>\n",
       "      <th>INGAMETELESC</th>\n",
       "      <td>2415</td>\n",
       "      <td>309.9500</td>\n",
       "    </tr>\n",
       "    <tr>\n",
       "      <th>PBET43018</th>\n",
       "      <td>29890</td>\n",
       "      <td>289.8500</td>\n",
       "    </tr>\n",
       "    <tr>\n",
       "      <th>ROSANNAPURPL</th>\n",
       "      <td>12510</td>\n",
       "      <td>210.6800</td>\n",
       "    </tr>\n",
       "    <tr>\n",
       "      <th>THPBTUNE1815</th>\n",
       "      <td>500</td>\n",
       "      <td>192.8500</td>\n",
       "    </tr>\n",
       "    <tr>\n",
       "      <th>2BIZREPORTPU</th>\n",
       "      <td>2330</td>\n",
       "      <td>177.0400</td>\n",
       "    </tr>\n",
       "    <tr>\n",
       "      <th>ZPUR0016</th>\n",
       "      <td>6162</td>\n",
       "      <td>168.7600</td>\n",
       "    </tr>\n",
       "  </tbody>\n",
       "</table>\n",
       "</div>"
      ],
      "text/plain": [
       "                                             spend       value\n",
       "creative_key                                                  \n",
       "ZPUR0018000H                               4052458  66422.8800\n",
       "ZPUR0016000H                               3202042  24458.2300\n",
       "ZPUR0027000H                               1400580  22616.3000\n",
       "ZPUR0028000H                               1580635  20081.3300\n",
       "ZPUR0039000_WORDS_PHONE_NUMBER_30          2398227  17240.2930\n",
       "ZPUR0037000_UGH_PHONE_NUMBER_RADIO_30_MIX  2578737  16454.4700\n",
       "Pool / License number / H                   932288  11201.9000\n",
       "Car Wash / License number                   947511   9680.1700\n",
       "Pool / Phone number / HD                    331854   3745.4645\n",
       "ZPUR0001000H                                730375   3592.4200\n",
       "Car Wash / Phone number /                   342581   2870.3180\n",
       "0                                            22082   2069.2400\n",
       "ZPUR0004000H                                321320   1585.2200\n",
       "PURPLEBR                                       604   1388.3600\n",
       "PURPLEBRICKS                                 61445    871.6200\n",
       "RIVERSIDE                                    20560    603.0800\n",
       "ZPUR0018000                                  41890    601.2900\n",
       "ZPUR0009000H                                148995    541.2000\n",
       "BASEBALL                                       360    501.6700\n",
       "PRPLBRKSBB                                   61270    363.1100\n",
       "ZPUR0010000H                                111840    345.8400\n",
       "PBGENBB2018                                   8215    320.8000\n",
       "INGAMETELESC                                  2415    309.9500\n",
       "PBET43018                                    29890    289.8500\n",
       "ROSANNAPURPL                                 12510    210.6800\n",
       "THPBTUNE1815                                   500    192.8500\n",
       "2BIZREPORTPU                                  2330    177.0400\n",
       "ZPUR0016                                      6162    168.7600"
      ]
     },
     "execution_count": 14,
     "metadata": {},
     "output_type": "execute_result"
    }
   ],
   "source": [
    "orden_creat_key=archivo[['creative_key','spend','value']].groupby(['creative_key']).sum()\n",
    "orden_creat_key.sort_values(by=['value'],ascending=False).head(28)"
   ]
  },
  {
   "cell_type": "markdown",
   "metadata": {},
   "source": [
    "# Creacion del archivo # 2 `creative`"
   ]
  },
  {
   "cell_type": "code",
   "execution_count": 15,
   "metadata": {},
   "outputs": [
    {
     "data": {
      "text/html": [
       "<div>\n",
       "<style scoped>\n",
       "    .dataframe tbody tr th:only-of-type {\n",
       "        vertical-align: middle;\n",
       "    }\n",
       "\n",
       "    .dataframe tbody tr th {\n",
       "        vertical-align: top;\n",
       "    }\n",
       "\n",
       "    .dataframe thead th {\n",
       "        text-align: right;\n",
       "    }\n",
       "</style>\n",
       "<table border=\"1\" class=\"dataframe\">\n",
       "  <thead>\n",
       "    <tr style=\"text-align: right;\">\n",
       "      <th></th>\n",
       "      <th>string_field_0</th>\n",
       "      <th>string_field_1</th>\n",
       "      <th>string_field_2</th>\n",
       "    </tr>\n",
       "  </thead>\n",
       "  <tbody>\n",
       "    <tr>\n",
       "      <th>0</th>\n",
       "      <td>Cici's Celebrity News :30s</td>\n",
       "      <td>ZPUR0005000</td>\n",
       "      <td>Radio</td>\n",
       "    </tr>\n",
       "    <tr>\n",
       "      <th>1</th>\n",
       "      <td>Cici's Celebrity News :30s</td>\n",
       "      <td>ZPUR0005000</td>\n",
       "      <td>Radio</td>\n",
       "    </tr>\n",
       "    <tr>\n",
       "      <th>2</th>\n",
       "      <td>Wilbur the Weatherman :30s</td>\n",
       "      <td>ZPUR0006000</td>\n",
       "      <td>Radio</td>\n",
       "    </tr>\n",
       "    <tr>\n",
       "      <th>3</th>\n",
       "      <td>Wilbur the Weatherman :30s</td>\n",
       "      <td>ZPUR0006000</td>\n",
       "      <td>Radio</td>\n",
       "    </tr>\n",
       "    <tr>\n",
       "      <th>4</th>\n",
       "      <td>Travis with Traffic :30s</td>\n",
       "      <td>ZPUR0007000</td>\n",
       "      <td>Radio</td>\n",
       "    </tr>\n",
       "  </tbody>\n",
       "</table>\n",
       "</div>"
      ],
      "text/plain": [
       "               string_field_0 string_field_1 string_field_2\n",
       "0  Cici's Celebrity News :30s    ZPUR0005000          Radio\n",
       "1  Cici's Celebrity News :30s    ZPUR0005000          Radio\n",
       "2  Wilbur the Weatherman :30s    ZPUR0006000          Radio\n",
       "3  Wilbur the Weatherman :30s    ZPUR0006000          Radio\n",
       "4    Travis with Traffic :30s    ZPUR0007000          Radio"
      ]
     },
     "execution_count": 15,
     "metadata": {},
     "output_type": "execute_result"
    }
   ],
   "source": [
    "archivo2=pd.read_csv('path_to_prueba_creative.csv')\n",
    "archivo2.head()"
   ]
  },
  {
   "cell_type": "code",
   "execution_count": null,
   "metadata": {},
   "outputs": [],
   "source": []
  },
  {
   "cell_type": "markdown",
   "metadata": {},
   "source": [
    "# Renombrar las columnas del `archivo2` para hacer un `merge`\n",
    "\n",
    "En esta ocasion es necesario que hagamos un cambio de nombre de las columnas debido a que necesitamos realizar una union de nuestras 2 dataframes."
   ]
  },
  {
   "cell_type": "code",
   "execution_count": 16,
   "metadata": {},
   "outputs": [],
   "source": [
    "archivo2.rename(columns={'string_field_0': 'station_key_market', 'string_field_1': 'creative_key','string_field_2': 'type'}, inplace=True)"
   ]
  },
  {
   "cell_type": "code",
   "execution_count": 17,
   "metadata": {},
   "outputs": [
    {
     "data": {
      "text/html": [
       "<div>\n",
       "<style scoped>\n",
       "    .dataframe tbody tr th:only-of-type {\n",
       "        vertical-align: middle;\n",
       "    }\n",
       "\n",
       "    .dataframe tbody tr th {\n",
       "        vertical-align: top;\n",
       "    }\n",
       "\n",
       "    .dataframe thead th {\n",
       "        text-align: right;\n",
       "    }\n",
       "</style>\n",
       "<table border=\"1\" class=\"dataframe\">\n",
       "  <thead>\n",
       "    <tr style=\"text-align: right;\">\n",
       "      <th></th>\n",
       "      <th>station_key_market</th>\n",
       "      <th>creative_key</th>\n",
       "      <th>type</th>\n",
       "    </tr>\n",
       "  </thead>\n",
       "  <tbody>\n",
       "    <tr>\n",
       "      <th>0</th>\n",
       "      <td>Cici's Celebrity News :30s</td>\n",
       "      <td>ZPUR0005000</td>\n",
       "      <td>Radio</td>\n",
       "    </tr>\n",
       "    <tr>\n",
       "      <th>1</th>\n",
       "      <td>Cici's Celebrity News :30s</td>\n",
       "      <td>ZPUR0005000</td>\n",
       "      <td>Radio</td>\n",
       "    </tr>\n",
       "    <tr>\n",
       "      <th>2</th>\n",
       "      <td>Wilbur the Weatherman :30s</td>\n",
       "      <td>ZPUR0006000</td>\n",
       "      <td>Radio</td>\n",
       "    </tr>\n",
       "    <tr>\n",
       "      <th>3</th>\n",
       "      <td>Wilbur the Weatherman :30s</td>\n",
       "      <td>ZPUR0006000</td>\n",
       "      <td>Radio</td>\n",
       "    </tr>\n",
       "    <tr>\n",
       "      <th>4</th>\n",
       "      <td>Travis with Traffic :30s</td>\n",
       "      <td>ZPUR0007000</td>\n",
       "      <td>Radio</td>\n",
       "    </tr>\n",
       "  </tbody>\n",
       "</table>\n",
       "</div>"
      ],
      "text/plain": [
       "           station_key_market creative_key   type\n",
       "0  Cici's Celebrity News :30s  ZPUR0005000  Radio\n",
       "1  Cici's Celebrity News :30s  ZPUR0005000  Radio\n",
       "2  Wilbur the Weatherman :30s  ZPUR0006000  Radio\n",
       "3  Wilbur the Weatherman :30s  ZPUR0006000  Radio\n",
       "4    Travis with Traffic :30s  ZPUR0007000  Radio"
      ]
     },
     "execution_count": 17,
     "metadata": {},
     "output_type": "execute_result"
    }
   ],
   "source": [
    "archivo2.head()"
   ]
  },
  {
   "cell_type": "markdown",
   "metadata": {},
   "source": [
    "# Creacion del `\"merge\"`"
   ]
  },
  {
   "cell_type": "code",
   "execution_count": 18,
   "metadata": {},
   "outputs": [
    {
     "data": {
      "text/html": [
       "<div>\n",
       "<style scoped>\n",
       "    .dataframe tbody tr th:only-of-type {\n",
       "        vertical-align: middle;\n",
       "    }\n",
       "\n",
       "    .dataframe tbody tr th {\n",
       "        vertical-align: top;\n",
       "    }\n",
       "\n",
       "    .dataframe thead th {\n",
       "        text-align: right;\n",
       "    }\n",
       "</style>\n",
       "<table border=\"1\" class=\"dataframe\">\n",
       "  <thead>\n",
       "    <tr style=\"text-align: right;\">\n",
       "      <th></th>\n",
       "      <th>creative_key</th>\n",
       "      <th>spend</th>\n",
       "      <th>value</th>\n",
       "      <th>station_key_market</th>\n",
       "      <th>type</th>\n",
       "    </tr>\n",
       "  </thead>\n",
       "  <tbody>\n",
       "    <tr>\n",
       "      <th>0</th>\n",
       "      <td>ZPUR0018000H</td>\n",
       "      <td>4052458</td>\n",
       "      <td>66422.88</td>\n",
       "      <td>Basketball :30s</td>\n",
       "      <td>TV</td>\n",
       "    </tr>\n",
       "    <tr>\n",
       "      <th>1</th>\n",
       "      <td>ZPUR0016000H</td>\n",
       "      <td>3202042</td>\n",
       "      <td>24458.23</td>\n",
       "      <td>Pie: 30s</td>\n",
       "      <td>TV</td>\n",
       "    </tr>\n",
       "    <tr>\n",
       "      <th>2</th>\n",
       "      <td>ZPUR0027000H</td>\n",
       "      <td>1400580</td>\n",
       "      <td>22616.30</td>\n",
       "      <td>Pie CTA Phone: 30s</td>\n",
       "      <td>TV</td>\n",
       "    </tr>\n",
       "    <tr>\n",
       "      <th>3</th>\n",
       "      <td>ZPUR0028000H</td>\n",
       "      <td>1580635</td>\n",
       "      <td>20081.33</td>\n",
       "      <td>Basketball CTA Phone :30s</td>\n",
       "      <td>TV</td>\n",
       "    </tr>\n",
       "    <tr>\n",
       "      <th>4</th>\n",
       "      <td>ZPUR0001000H</td>\n",
       "      <td>730375</td>\n",
       "      <td>3592.42</td>\n",
       "      <td>Pie: 30s</td>\n",
       "      <td>TV</td>\n",
       "    </tr>\n",
       "    <tr>\n",
       "      <th>5</th>\n",
       "      <td>ZPUR0004000H</td>\n",
       "      <td>321320</td>\n",
       "      <td>1585.22</td>\n",
       "      <td>Birthday :30s</td>\n",
       "      <td>TV</td>\n",
       "    </tr>\n",
       "  </tbody>\n",
       "</table>\n",
       "</div>"
      ],
      "text/plain": [
       "   creative_key    spend     value         station_key_market type\n",
       "0  ZPUR0018000H  4052458  66422.88            Basketball :30s   TV\n",
       "1  ZPUR0016000H  3202042  24458.23                   Pie: 30s   TV\n",
       "2  ZPUR0027000H  1400580  22616.30         Pie CTA Phone: 30s   TV\n",
       "3  ZPUR0028000H  1580635  20081.33  Basketball CTA Phone :30s   TV\n",
       "4  ZPUR0001000H   730375   3592.42                   Pie: 30s   TV\n",
       "5  ZPUR0004000H   321320   1585.22              Birthday :30s   TV"
      ]
     },
     "execution_count": 18,
     "metadata": {},
     "output_type": "execute_result"
    }
   ],
   "source": [
    "left=orden_creat_key.sort_values(by=['value'],ascending=False).head(28)\n",
    "right=archivo2\n",
    "pd.merge(left, right, how='inner',on='creative_key')"
   ]
  },
  {
   "cell_type": "markdown",
   "metadata": {},
   "source": [
    "# **Analisis :** \n",
    "\n",
    "Al realizar la union de nuestras 2 tablas nos permite observar el papel tan importante que juega la temporada de **`basketball`**"
   ]
  },
  {
   "cell_type": "code",
   "execution_count": null,
   "metadata": {},
   "outputs": [],
   "source": []
  },
  {
   "cell_type": "markdown",
   "metadata": {},
   "source": [
    "# Las `creative_key` que menos generan valor\n",
    "\n",
    "En este punto podemos observar la cantidad de dinero que estamos gastando sin generar ningun valor ."
   ]
  },
  {
   "cell_type": "code",
   "execution_count": 19,
   "metadata": {},
   "outputs": [
    {
     "data": {
      "text/html": [
       "<div>\n",
       "<style scoped>\n",
       "    .dataframe tbody tr th:only-of-type {\n",
       "        vertical-align: middle;\n",
       "    }\n",
       "\n",
       "    .dataframe tbody tr th {\n",
       "        vertical-align: top;\n",
       "    }\n",
       "\n",
       "    .dataframe thead th {\n",
       "        text-align: right;\n",
       "    }\n",
       "</style>\n",
       "<table border=\"1\" class=\"dataframe\">\n",
       "  <thead>\n",
       "    <tr style=\"text-align: right;\">\n",
       "      <th></th>\n",
       "      <th>spend</th>\n",
       "      <th>value</th>\n",
       "    </tr>\n",
       "    <tr>\n",
       "      <th>creative_key</th>\n",
       "      <th></th>\n",
       "      <th></th>\n",
       "    </tr>\n",
       "  </thead>\n",
       "  <tbody>\n",
       "    <tr>\n",
       "      <th>ZPUR0018000H</th>\n",
       "      <td>1971795</td>\n",
       "      <td>0.0</td>\n",
       "    </tr>\n",
       "    <tr>\n",
       "      <th>ZPUR0037000_UGH_PHONE_NUMBER_RADIO_30_MIX</th>\n",
       "      <td>1342309</td>\n",
       "      <td>0.0</td>\n",
       "    </tr>\n",
       "    <tr>\n",
       "      <th>ZPUR0016000H</th>\n",
       "      <td>1335104</td>\n",
       "      <td>0.0</td>\n",
       "    </tr>\n",
       "    <tr>\n",
       "      <th>ZPUR0039000_WORDS_PHONE_NUMBER_30</th>\n",
       "      <td>1244071</td>\n",
       "      <td>0.0</td>\n",
       "    </tr>\n",
       "    <tr>\n",
       "      <th>Car Wash / License number</th>\n",
       "      <td>500766</td>\n",
       "      <td>0.0</td>\n",
       "    </tr>\n",
       "    <tr>\n",
       "      <th>Pool / License number / H</th>\n",
       "      <td>464782</td>\n",
       "      <td>0.0</td>\n",
       "    </tr>\n",
       "    <tr>\n",
       "      <th>ZPUR0001000H</th>\n",
       "      <td>307535</td>\n",
       "      <td>0.0</td>\n",
       "    </tr>\n",
       "    <tr>\n",
       "      <th>ZPUR0028000H</th>\n",
       "      <td>243659</td>\n",
       "      <td>0.0</td>\n",
       "    </tr>\n",
       "    <tr>\n",
       "      <th>ZPUR0027000H</th>\n",
       "      <td>194223</td>\n",
       "      <td>0.0</td>\n",
       "    </tr>\n",
       "    <tr>\n",
       "      <th>ZPUR0004000H</th>\n",
       "      <td>192425</td>\n",
       "      <td>0.0</td>\n",
       "    </tr>\n",
       "  </tbody>\n",
       "</table>\n",
       "</div>"
      ],
      "text/plain": [
       "                                             spend  value\n",
       "creative_key                                             \n",
       "ZPUR0018000H                               1971795    0.0\n",
       "ZPUR0037000_UGH_PHONE_NUMBER_RADIO_30_MIX  1342309    0.0\n",
       "ZPUR0016000H                               1335104    0.0\n",
       "ZPUR0039000_WORDS_PHONE_NUMBER_30          1244071    0.0\n",
       "Car Wash / License number                   500766    0.0\n",
       "Pool / License number / H                   464782    0.0\n",
       "ZPUR0001000H                                307535    0.0\n",
       "ZPUR0028000H                                243659    0.0\n",
       "ZPUR0027000H                                194223    0.0\n",
       "ZPUR0004000H                                192425    0.0"
      ]
     },
     "execution_count": 19,
     "metadata": {},
     "output_type": "execute_result"
    }
   ],
   "source": [
    "key_kill=archivo[archivo['value']==0].groupby(['creative_key']).sum()\n",
    "key_kill.sort_values(by=['spend'],ascending=False).head(10)"
   ]
  },
  {
   "cell_type": "markdown",
   "metadata": {},
   "source": [
    "# Perdidas reales que tenemos sin generar valor "
   ]
  },
  {
   "cell_type": "code",
   "execution_count": 20,
   "metadata": {},
   "outputs": [
    {
     "data": {
      "text/plain": [
       "spend    8433392.0\n",
       "value          0.0\n",
       "dtype: float64"
      ]
     },
     "execution_count": 20,
     "metadata": {},
     "output_type": "execute_result"
    }
   ],
   "source": [
    "key_kill[['spend','value']].sum()"
   ]
  },
  {
   "cell_type": "code",
   "execution_count": 21,
   "metadata": {},
   "outputs": [
    {
     "data": {
      "text/plain": [
       "spend    1.944640e+07\n",
       "value    2.115330e+05\n",
       "dtype: float64"
      ]
     },
     "execution_count": 21,
     "metadata": {},
     "output_type": "execute_result"
    }
   ],
   "source": [
    "archivo[['spend','value']].sum()"
   ]
  },
  {
   "cell_type": "code",
   "execution_count": 22,
   "metadata": {},
   "outputs": [
    {
     "data": {
      "text/plain": [
       "spend    43.367362\n",
       "dtype: float64"
      ]
     },
     "execution_count": 22,
     "metadata": {},
     "output_type": "execute_result"
    }
   ],
   "source": [
    "porc_gastos=(key_kill[['spend']].sum()/archivo[['spend']].sum())*100\n",
    "porc_gastos"
   ]
  },
  {
   "cell_type": "markdown",
   "metadata": {},
   "source": [
    "# Creacion del dataframe `GASTOS`"
   ]
  },
  {
   "cell_type": "code",
   "execution_count": 23,
   "metadata": {},
   "outputs": [],
   "source": [
    "gastos={'spend':[11013008.0 , 8433392.0 ]}"
   ]
  },
  {
   "cell_type": "code",
   "execution_count": 24,
   "metadata": {},
   "outputs": [],
   "source": [
    "gastos=pd.DataFrame(gastos,index=[['generan valor','generan perdidas']])"
   ]
  },
  {
   "cell_type": "code",
   "execution_count": 25,
   "metadata": {},
   "outputs": [
    {
     "data": {
      "text/html": [
       "<div>\n",
       "<style scoped>\n",
       "    .dataframe tbody tr th:only-of-type {\n",
       "        vertical-align: middle;\n",
       "    }\n",
       "\n",
       "    .dataframe tbody tr th {\n",
       "        vertical-align: top;\n",
       "    }\n",
       "\n",
       "    .dataframe thead th {\n",
       "        text-align: right;\n",
       "    }\n",
       "</style>\n",
       "<table border=\"1\" class=\"dataframe\">\n",
       "  <thead>\n",
       "    <tr style=\"text-align: right;\">\n",
       "      <th></th>\n",
       "      <th>spend</th>\n",
       "    </tr>\n",
       "  </thead>\n",
       "  <tbody>\n",
       "    <tr>\n",
       "      <th>generan valor</th>\n",
       "      <td>11013008.0</td>\n",
       "    </tr>\n",
       "    <tr>\n",
       "      <th>generan perdidas</th>\n",
       "      <td>8433392.0</td>\n",
       "    </tr>\n",
       "  </tbody>\n",
       "</table>\n",
       "</div>"
      ],
      "text/plain": [
       "                       spend\n",
       "generan valor     11013008.0\n",
       "generan perdidas   8433392.0"
      ]
     },
     "execution_count": 25,
     "metadata": {},
     "output_type": "execute_result"
    }
   ],
   "source": [
    "gastos"
   ]
  },
  {
   "cell_type": "code",
   "execution_count": 26,
   "metadata": {},
   "outputs": [
    {
     "data": {
      "text/plain": [
       "<matplotlib.legend.Legend at 0x7f94665f0198>"
      ]
     },
     "execution_count": 26,
     "metadata": {},
     "output_type": "execute_result"
    },
    {
     "data": {
      "image/png": "[encoded data removed]",
      "text/plain": [
       "<Figure size 432x288 with 1 Axes>"
      ]
     },
     "metadata": {},
     "output_type": "display_data"
    }
   ],
   "source": [
    "plt.pie(gastos\n",
    "        ,autopct='%1.1f%%',shadow=True, labels=gastos.index, startangle=90,radius=0.8)\n",
    "plt.legend(loc=0)"
   ]
  },
  {
   "cell_type": "markdown",
   "metadata": {},
   "source": [
    "**Analisis :** Podemos observar claramente que el 43% de nuestros gastos en publicidad no estan generando valor "
   ]
  },
  {
   "cell_type": "markdown",
   "metadata": {},
   "source": [
    "# Ganancias por medios en los que no gastamos publicidad \n",
    "\n",
    "**ANALISIS:** Tener en cuenta que de todos los medios para realizar publicidad los que mas valor estan teniendo son los de TV tradicional seguido de la TDT\n"
   ]
  },
  {
   "cell_type": "code",
   "execution_count": 27,
   "metadata": {},
   "outputs": [
    {
     "data": {
      "text/html": [
       "<div>\n",
       "<style scoped>\n",
       "    .dataframe tbody tr th:only-of-type {\n",
       "        vertical-align: middle;\n",
       "    }\n",
       "\n",
       "    .dataframe tbody tr th {\n",
       "        vertical-align: top;\n",
       "    }\n",
       "\n",
       "    .dataframe thead th {\n",
       "        text-align: right;\n",
       "    }\n",
       "</style>\n",
       "<table border=\"1\" class=\"dataframe\">\n",
       "  <thead>\n",
       "    <tr style=\"text-align: right;\">\n",
       "      <th></th>\n",
       "      <th>value</th>\n",
       "    </tr>\n",
       "    <tr>\n",
       "      <th>type</th>\n",
       "      <th></th>\n",
       "    </tr>\n",
       "  </thead>\n",
       "  <tbody>\n",
       "    <tr>\n",
       "      <th>Radio - P12+</th>\n",
       "      <td>399.19</td>\n",
       "    </tr>\n",
       "    <tr>\n",
       "      <th>TV</th>\n",
       "      <td>32648.66</td>\n",
       "    </tr>\n",
       "    <tr>\n",
       "      <th>TV - HH</th>\n",
       "      <td>5174.16</td>\n",
       "    </tr>\n",
       "  </tbody>\n",
       "</table>\n",
       "</div>"
      ],
      "text/plain": [
       "                 value\n",
       "type                  \n",
       "Radio - P12+    399.19\n",
       "TV            32648.66\n",
       "TV - HH        5174.16"
      ]
     },
     "execution_count": 27,
     "metadata": {},
     "output_type": "execute_result"
    }
   ],
   "source": [
    "Value_by_type=archivo[archivo['spend']==0][['type','value']].groupby(['type']).sum()\n",
    "Value_by_type"
   ]
  },
  {
   "cell_type": "code",
   "execution_count": 28,
   "metadata": {},
   "outputs": [
    {
     "data": {
      "text/plain": [
       "<matplotlib.axes._subplots.AxesSubplot at 0x7f946482e278>"
      ]
     },
     "execution_count": 28,
     "metadata": {},
     "output_type": "execute_result"
    },
    {
     "data": {
      "image/png": "[encoded data removed]",
      "text/plain": [
       "<Figure size 432x288 with 1 Axes>"
      ]
     },
     "metadata": {},
     "output_type": "display_data"
    }
   ],
   "source": [
    "sns.set_style(style='darkgrid')\n",
    "Value_by_type.plot(kind='bar',colormap='summer')"
   ]
  },
  {
   "cell_type": "code",
   "execution_count": 29,
   "metadata": {},
   "outputs": [
    {
     "data": {
      "text/plain": [
       "<matplotlib.legend.Legend at 0x7f9464787fd0>"
      ]
     },
     "execution_count": 29,
     "metadata": {},
     "output_type": "execute_result"
    },
    {
     "data": {
      "image/png": "[encoded data removed]",
      "text/plain": [
       "<Figure size 432x288 with 1 Axes>"
      ]
     },
     "metadata": {},
     "output_type": "display_data"
    }
   ],
   "source": [
    "plt.pie(Value_by_type\n",
    "        ,autopct='%1.1f%%',shadow=True,labels=Value_by_type.index,startangle=90,radius=0.8)\n",
    "plt.legend(loc=0)"
   ]
  },
  {
   "cell_type": "markdown",
   "metadata": {},
   "source": [
    "**NOTA :** El 85% de los ingresos en los que no tenemos gastos son provenientes de la TV tradicional"
   ]
  },
  {
   "cell_type": "markdown",
   "metadata": {},
   "source": [
    "# Analisis de gastos y valor por medio\n",
    "\n"
   ]
  },
  {
   "cell_type": "code",
   "execution_count": 30,
   "metadata": {},
   "outputs": [
    {
     "data": {
      "text/html": [
       "<div>\n",
       "<style scoped>\n",
       "    .dataframe tbody tr th:only-of-type {\n",
       "        vertical-align: middle;\n",
       "    }\n",
       "\n",
       "    .dataframe tbody tr th {\n",
       "        vertical-align: top;\n",
       "    }\n",
       "\n",
       "    .dataframe thead th {\n",
       "        text-align: right;\n",
       "    }\n",
       "</style>\n",
       "<table border=\"1\" class=\"dataframe\">\n",
       "  <thead>\n",
       "    <tr style=\"text-align: right;\">\n",
       "      <th></th>\n",
       "      <th>spend</th>\n",
       "      <th>value</th>\n",
       "    </tr>\n",
       "    <tr>\n",
       "      <th>type</th>\n",
       "      <th></th>\n",
       "      <th></th>\n",
       "    </tr>\n",
       "  </thead>\n",
       "  <tbody>\n",
       "    <tr>\n",
       "      <th>Radio - P12+</th>\n",
       "      <td>4976964</td>\n",
       "      <td>33694.7630</td>\n",
       "    </tr>\n",
       "    <tr>\n",
       "      <th>TV</th>\n",
       "      <td>11915205</td>\n",
       "      <td>150340.4200</td>\n",
       "    </tr>\n",
       "    <tr>\n",
       "      <th>TV - HH</th>\n",
       "      <td>2554234</td>\n",
       "      <td>27497.8525</td>\n",
       "    </tr>\n",
       "  </tbody>\n",
       "</table>\n",
       "</div>"
      ],
      "text/plain": [
       "                 spend        value\n",
       "type                               \n",
       "Radio - P12+   4976964   33694.7630\n",
       "TV            11915205  150340.4200\n",
       "TV - HH        2554234   27497.8525"
      ]
     },
     "execution_count": 30,
     "metadata": {},
     "output_type": "execute_result"
    }
   ],
   "source": [
    "archivo[['type','spend','value']].groupby(['type']).sum()"
   ]
  },
  {
   "cell_type": "markdown",
   "metadata": {},
   "source": [
    "**ANALISIS:** Podemos observar que la TV normal no estas ofreciendo un gran valor para la compañia, seguido del radio y de la TDT , pero lo ideal es encontrar cuales nos generan mas valor al menor costo "
   ]
  },
  {
   "cell_type": "code",
   "execution_count": null,
   "metadata": {},
   "outputs": [],
   "source": []
  },
  {
   "cell_type": "markdown",
   "metadata": {},
   "source": [
    "# Top 10 de las creative_key de tipo **`RADIO`** que mas generan valor "
   ]
  },
  {
   "cell_type": "code",
   "execution_count": 31,
   "metadata": {},
   "outputs": [
    {
     "data": {
      "text/html": [
       "<div>\n",
       "<style scoped>\n",
       "    .dataframe tbody tr th:only-of-type {\n",
       "        vertical-align: middle;\n",
       "    }\n",
       "\n",
       "    .dataframe tbody tr th {\n",
       "        vertical-align: top;\n",
       "    }\n",
       "\n",
       "    .dataframe thead th {\n",
       "        text-align: right;\n",
       "    }\n",
       "</style>\n",
       "<table border=\"1\" class=\"dataframe\">\n",
       "  <thead>\n",
       "    <tr style=\"text-align: right;\">\n",
       "      <th></th>\n",
       "      <th>value</th>\n",
       "      <th>spend</th>\n",
       "      <th>creative_key</th>\n",
       "    </tr>\n",
       "  </thead>\n",
       "  <tbody>\n",
       "    <tr>\n",
       "      <th>3828</th>\n",
       "      <td>168.97</td>\n",
       "      <td>540</td>\n",
       "      <td>ZPUR0037000_UGH_PHONE_NUMBER_RADIO_30_MIX</td>\n",
       "    </tr>\n",
       "    <tr>\n",
       "      <th>11073</th>\n",
       "      <td>113.05</td>\n",
       "      <td>540</td>\n",
       "      <td>ZPUR0039000_WORDS_PHONE_NUMBER_30</td>\n",
       "    </tr>\n",
       "    <tr>\n",
       "      <th>7990</th>\n",
       "      <td>102.62</td>\n",
       "      <td>540</td>\n",
       "      <td>ZPUR0037000_UGH_PHONE_NUMBER_RADIO_30_MIX</td>\n",
       "    </tr>\n",
       "    <tr>\n",
       "      <th>12600</th>\n",
       "      <td>93.92</td>\n",
       "      <td>540</td>\n",
       "      <td>ZPUR0037000_UGH_PHONE_NUMBER_RADIO_30_MIX</td>\n",
       "    </tr>\n",
       "    <tr>\n",
       "      <th>12234</th>\n",
       "      <td>92.65</td>\n",
       "      <td>540</td>\n",
       "      <td>ZPUR0039000_WORDS_PHONE_NUMBER_30</td>\n",
       "    </tr>\n",
       "    <tr>\n",
       "      <th>2284</th>\n",
       "      <td>86.50</td>\n",
       "      <td>98</td>\n",
       "      <td>ZPUR0039000_WORDS_PHONE_NUMBER_30</td>\n",
       "    </tr>\n",
       "    <tr>\n",
       "      <th>7929</th>\n",
       "      <td>86.02</td>\n",
       "      <td>540</td>\n",
       "      <td>ZPUR0039000_WORDS_PHONE_NUMBER_30</td>\n",
       "    </tr>\n",
       "    <tr>\n",
       "      <th>325</th>\n",
       "      <td>80.55</td>\n",
       "      <td>540</td>\n",
       "      <td>ZPUR0037000_UGH_PHONE_NUMBER_RADIO_30_MIX</td>\n",
       "    </tr>\n",
       "    <tr>\n",
       "      <th>4727</th>\n",
       "      <td>79.05</td>\n",
       "      <td>540</td>\n",
       "      <td>ZPUR0037000_UGH_PHONE_NUMBER_RADIO_30_MIX</td>\n",
       "    </tr>\n",
       "    <tr>\n",
       "      <th>8619</th>\n",
       "      <td>74.80</td>\n",
       "      <td>540</td>\n",
       "      <td>ZPUR0037000_UGH_PHONE_NUMBER_RADIO_30_MIX</td>\n",
       "    </tr>\n",
       "  </tbody>\n",
       "</table>\n",
       "</div>"
      ],
      "text/plain": [
       "        value  spend                               creative_key\n",
       "3828   168.97    540  ZPUR0037000_UGH_PHONE_NUMBER_RADIO_30_MIX\n",
       "11073  113.05    540          ZPUR0039000_WORDS_PHONE_NUMBER_30\n",
       "7990   102.62    540  ZPUR0037000_UGH_PHONE_NUMBER_RADIO_30_MIX\n",
       "12600   93.92    540  ZPUR0037000_UGH_PHONE_NUMBER_RADIO_30_MIX\n",
       "12234   92.65    540          ZPUR0039000_WORDS_PHONE_NUMBER_30\n",
       "2284    86.50     98          ZPUR0039000_WORDS_PHONE_NUMBER_30\n",
       "7929    86.02    540          ZPUR0039000_WORDS_PHONE_NUMBER_30\n",
       "325     80.55    540  ZPUR0037000_UGH_PHONE_NUMBER_RADIO_30_MIX\n",
       "4727    79.05    540  ZPUR0037000_UGH_PHONE_NUMBER_RADIO_30_MIX\n",
       "8619    74.80    540  ZPUR0037000_UGH_PHONE_NUMBER_RADIO_30_MIX"
      ]
     },
     "execution_count": 31,
     "metadata": {},
     "output_type": "execute_result"
    }
   ],
   "source": [
    "orden_by_radio=archivo[archivo['type']=='Radio - P12+'][['value','spend','creative_key']]\n",
    "orden_by_radio.sort_values(by=['value'],ascending=False).head(10)"
   ]
  },
  {
   "cell_type": "code",
   "execution_count": null,
   "metadata": {},
   "outputs": [],
   "source": []
  },
  {
   "cell_type": "markdown",
   "metadata": {},
   "source": [
    "# Top 10 de las creative_key de tipo **`TV`** que mas generan valor"
   ]
  },
  {
   "cell_type": "code",
   "execution_count": 32,
   "metadata": {},
   "outputs": [
    {
     "data": {
      "text/html": [
       "<div>\n",
       "<style scoped>\n",
       "    .dataframe tbody tr th:only-of-type {\n",
       "        vertical-align: middle;\n",
       "    }\n",
       "\n",
       "    .dataframe tbody tr th {\n",
       "        vertical-align: top;\n",
       "    }\n",
       "\n",
       "    .dataframe thead th {\n",
       "        text-align: right;\n",
       "    }\n",
       "</style>\n",
       "<table border=\"1\" class=\"dataframe\">\n",
       "  <thead>\n",
       "    <tr style=\"text-align: right;\">\n",
       "      <th></th>\n",
       "      <th>value</th>\n",
       "      <th>spend</th>\n",
       "      <th>creative_key</th>\n",
       "    </tr>\n",
       "  </thead>\n",
       "  <tbody>\n",
       "    <tr>\n",
       "      <th>21059</th>\n",
       "      <td>870.78</td>\n",
       "      <td>0</td>\n",
       "      <td>ZPUR0018000H</td>\n",
       "    </tr>\n",
       "    <tr>\n",
       "      <th>21145</th>\n",
       "      <td>842.35</td>\n",
       "      <td>9000</td>\n",
       "      <td>ZPUR0018000H</td>\n",
       "    </tr>\n",
       "    <tr>\n",
       "      <th>16414</th>\n",
       "      <td>651.65</td>\n",
       "      <td>7</td>\n",
       "      <td>ZPUR0018000H</td>\n",
       "    </tr>\n",
       "    <tr>\n",
       "      <th>25812</th>\n",
       "      <td>637.79</td>\n",
       "      <td>25</td>\n",
       "      <td>ZPUR0018000H</td>\n",
       "    </tr>\n",
       "    <tr>\n",
       "      <th>20123</th>\n",
       "      <td>596.91</td>\n",
       "      <td>0</td>\n",
       "      <td>ZPUR0018000H</td>\n",
       "    </tr>\n",
       "    <tr>\n",
       "      <th>31872</th>\n",
       "      <td>595.99</td>\n",
       "      <td>125</td>\n",
       "      <td>ZPUR0018000H</td>\n",
       "    </tr>\n",
       "    <tr>\n",
       "      <th>33430</th>\n",
       "      <td>514.28</td>\n",
       "      <td>1000</td>\n",
       "      <td>ZPUR0018000H</td>\n",
       "    </tr>\n",
       "    <tr>\n",
       "      <th>27989</th>\n",
       "      <td>508.56</td>\n",
       "      <td>45</td>\n",
       "      <td>ZPUR0018000H</td>\n",
       "    </tr>\n",
       "    <tr>\n",
       "      <th>33838</th>\n",
       "      <td>495.43</td>\n",
       "      <td>0</td>\n",
       "      <td>ZPUR0018000</td>\n",
       "    </tr>\n",
       "    <tr>\n",
       "      <th>29245</th>\n",
       "      <td>482.23</td>\n",
       "      <td>55</td>\n",
       "      <td>ZPUR0018000H</td>\n",
       "    </tr>\n",
       "  </tbody>\n",
       "</table>\n",
       "</div>"
      ],
      "text/plain": [
       "        value  spend  creative_key\n",
       "21059  870.78      0  ZPUR0018000H\n",
       "21145  842.35   9000  ZPUR0018000H\n",
       "16414  651.65      7  ZPUR0018000H\n",
       "25812  637.79     25  ZPUR0018000H\n",
       "20123  596.91      0  ZPUR0018000H\n",
       "31872  595.99    125  ZPUR0018000H\n",
       "33430  514.28   1000  ZPUR0018000H\n",
       "27989  508.56     45  ZPUR0018000H\n",
       "33838  495.43      0   ZPUR0018000\n",
       "29245  482.23     55  ZPUR0018000H"
      ]
     },
     "execution_count": 32,
     "metadata": {},
     "output_type": "execute_result"
    }
   ],
   "source": [
    "orden_by_radio=archivo[archivo['type']=='TV'][['value','spend','creative_key']]\n",
    "orden_by_radio.sort_values(by=['value'],ascending=False).head(10)"
   ]
  },
  {
   "cell_type": "code",
   "execution_count": null,
   "metadata": {},
   "outputs": [],
   "source": []
  },
  {
   "cell_type": "markdown",
   "metadata": {},
   "source": [
    "# Top 10 de las creative_key de tipo **`TV - HH`** que mas generan valor"
   ]
  },
  {
   "cell_type": "code",
   "execution_count": 33,
   "metadata": {},
   "outputs": [
    {
     "data": {
      "text/html": [
       "<div>\n",
       "<style scoped>\n",
       "    .dataframe tbody tr th:only-of-type {\n",
       "        vertical-align: middle;\n",
       "    }\n",
       "\n",
       "    .dataframe tbody tr th {\n",
       "        vertical-align: top;\n",
       "    }\n",
       "\n",
       "    .dataframe thead th {\n",
       "        text-align: right;\n",
       "    }\n",
       "</style>\n",
       "<table border=\"1\" class=\"dataframe\">\n",
       "  <thead>\n",
       "    <tr style=\"text-align: right;\">\n",
       "      <th></th>\n",
       "      <th>value</th>\n",
       "      <th>spend</th>\n",
       "      <th>creative_key</th>\n",
       "    </tr>\n",
       "  </thead>\n",
       "  <tbody>\n",
       "    <tr>\n",
       "      <th>5650</th>\n",
       "      <td>160.85</td>\n",
       "      <td>0</td>\n",
       "      <td>Pool / Phone number / HD</td>\n",
       "    </tr>\n",
       "    <tr>\n",
       "      <th>3248</th>\n",
       "      <td>124.79</td>\n",
       "      <td>540</td>\n",
       "      <td>Pool / Phone number / HD</td>\n",
       "    </tr>\n",
       "    <tr>\n",
       "      <th>4367</th>\n",
       "      <td>124.60</td>\n",
       "      <td>0</td>\n",
       "      <td>Pool / Phone number / HD</td>\n",
       "    </tr>\n",
       "    <tr>\n",
       "      <th>9056</th>\n",
       "      <td>118.69</td>\n",
       "      <td>540</td>\n",
       "      <td>Pool / License number / H</td>\n",
       "    </tr>\n",
       "    <tr>\n",
       "      <th>11535</th>\n",
       "      <td>99.42</td>\n",
       "      <td>0</td>\n",
       "      <td>Pool / License number / H</td>\n",
       "    </tr>\n",
       "    <tr>\n",
       "      <th>5646</th>\n",
       "      <td>87.27</td>\n",
       "      <td>0</td>\n",
       "      <td>Pool / Phone number / HD</td>\n",
       "    </tr>\n",
       "    <tr>\n",
       "      <th>9145</th>\n",
       "      <td>83.08</td>\n",
       "      <td>540</td>\n",
       "      <td>Pool / License number / H</td>\n",
       "    </tr>\n",
       "    <tr>\n",
       "      <th>4138</th>\n",
       "      <td>76.84</td>\n",
       "      <td>540</td>\n",
       "      <td>Pool / Phone number / HD</td>\n",
       "    </tr>\n",
       "    <tr>\n",
       "      <th>2680</th>\n",
       "      <td>76.21</td>\n",
       "      <td>540</td>\n",
       "      <td>Car Wash / License number</td>\n",
       "    </tr>\n",
       "    <tr>\n",
       "      <th>11840</th>\n",
       "      <td>73.60</td>\n",
       "      <td>80</td>\n",
       "      <td>Pool / License number / H</td>\n",
       "    </tr>\n",
       "  </tbody>\n",
       "</table>\n",
       "</div>"
      ],
      "text/plain": [
       "        value  spend               creative_key\n",
       "5650   160.85      0   Pool / Phone number / HD\n",
       "3248   124.79    540   Pool / Phone number / HD\n",
       "4367   124.60      0   Pool / Phone number / HD\n",
       "9056   118.69    540  Pool / License number / H\n",
       "11535   99.42      0  Pool / License number / H\n",
       "5646    87.27      0   Pool / Phone number / HD\n",
       "9145    83.08    540  Pool / License number / H\n",
       "4138    76.84    540   Pool / Phone number / HD\n",
       "2680    76.21    540  Car Wash / License number\n",
       "11840   73.60     80  Pool / License number / H"
      ]
     },
     "execution_count": 33,
     "metadata": {},
     "output_type": "execute_result"
    }
   ],
   "source": [
    "orden_by_radio=archivo[archivo['type']=='TV - HH'][['value','spend','creative_key']]\n",
    "orden_by_radio.sort_values(by=['value'],ascending=False).head(10)"
   ]
  },
  {
   "cell_type": "code",
   "execution_count": null,
   "metadata": {},
   "outputs": [],
   "source": []
  },
  {
   "cell_type": "code",
   "execution_count": 34,
   "metadata": {},
   "outputs": [
    {
     "data": {
      "text/plain": [
       "'2018-11-12 23:33:00 UTC'"
      ]
     },
     "execution_count": 34,
     "metadata": {},
     "output_type": "execute_result"
    }
   ],
   "source": [
    "archivo['time'].max() # Ultima fecha "
   ]
  },
  {
   "cell_type": "code",
   "execution_count": 35,
   "metadata": {},
   "outputs": [
    {
     "data": {
      "text/plain": [
       "'2017-09-14 21:34:00 UTC'"
      ]
     },
     "execution_count": 35,
     "metadata": {},
     "output_type": "execute_result"
    }
   ],
   "source": [
    "archivo['time'].min() # Primera fecha registrada "
   ]
  },
  {
   "cell_type": "markdown",
   "metadata": {},
   "source": [
    "# Gastos por medio de publicacion"
   ]
  },
  {
   "cell_type": "code",
   "execution_count": 36,
   "metadata": {},
   "outputs": [
    {
     "data": {
      "text/html": [
       "<div>\n",
       "<style scoped>\n",
       "    .dataframe tbody tr th:only-of-type {\n",
       "        vertical-align: middle;\n",
       "    }\n",
       "\n",
       "    .dataframe tbody tr th {\n",
       "        vertical-align: top;\n",
       "    }\n",
       "\n",
       "    .dataframe thead th {\n",
       "        text-align: right;\n",
       "    }\n",
       "</style>\n",
       "<table border=\"1\" class=\"dataframe\">\n",
       "  <thead>\n",
       "    <tr style=\"text-align: right;\">\n",
       "      <th></th>\n",
       "      <th>spend</th>\n",
       "    </tr>\n",
       "    <tr>\n",
       "      <th>type</th>\n",
       "      <th></th>\n",
       "    </tr>\n",
       "  </thead>\n",
       "  <tbody>\n",
       "    <tr>\n",
       "      <th>Radio - P12+</th>\n",
       "      <td>4976964</td>\n",
       "    </tr>\n",
       "    <tr>\n",
       "      <th>TV</th>\n",
       "      <td>11915205</td>\n",
       "    </tr>\n",
       "    <tr>\n",
       "      <th>TV - HH</th>\n",
       "      <td>2554234</td>\n",
       "    </tr>\n",
       "  </tbody>\n",
       "</table>\n",
       "</div>"
      ],
      "text/plain": [
       "                 spend\n",
       "type                  \n",
       "Radio - P12+   4976964\n",
       "TV            11915205\n",
       "TV - HH        2554234"
      ]
     },
     "execution_count": 36,
     "metadata": {},
     "output_type": "execute_result"
    }
   ],
   "source": [
    "porcentaje_gastos=archivo[['type','spend']].groupby(['type']).sum()\n",
    "porcentaje_gastos"
   ]
  },
  {
   "cell_type": "code",
   "execution_count": 37,
   "metadata": {},
   "outputs": [
    {
     "data": {
      "text/plain": [
       "<matplotlib.legend.Legend at 0x7f946470bcf8>"
      ]
     },
     "execution_count": 37,
     "metadata": {},
     "output_type": "execute_result"
    },
    {
     "data": {
      "image/png": "[encoded data removed]",
      "text/plain": [
       "<Figure size 432x288 with 1 Axes>"
      ]
     },
     "metadata": {},
     "output_type": "display_data"
    }
   ],
   "source": [
    "plt.pie(porcentaje_gastos\n",
    "        ,autopct='%1.1f%%',shadow=True,labels=porcentaje_gastos.index,startangle=90,radius=0.8)\n",
    "plt.legend(loc=0)"
   ]
  },
  {
   "cell_type": "markdown",
   "metadata": {},
   "source": [
    "# Generacion de valor por medio de publicacion"
   ]
  },
  {
   "cell_type": "code",
   "execution_count": 38,
   "metadata": {},
   "outputs": [
    {
     "data": {
      "text/html": [
       "<div>\n",
       "<style scoped>\n",
       "    .dataframe tbody tr th:only-of-type {\n",
       "        vertical-align: middle;\n",
       "    }\n",
       "\n",
       "    .dataframe tbody tr th {\n",
       "        vertical-align: top;\n",
       "    }\n",
       "\n",
       "    .dataframe thead th {\n",
       "        text-align: right;\n",
       "    }\n",
       "</style>\n",
       "<table border=\"1\" class=\"dataframe\">\n",
       "  <thead>\n",
       "    <tr style=\"text-align: right;\">\n",
       "      <th></th>\n",
       "      <th>value</th>\n",
       "    </tr>\n",
       "    <tr>\n",
       "      <th>type</th>\n",
       "      <th></th>\n",
       "    </tr>\n",
       "  </thead>\n",
       "  <tbody>\n",
       "    <tr>\n",
       "      <th>Radio - P12+</th>\n",
       "      <td>33694.7630</td>\n",
       "    </tr>\n",
       "    <tr>\n",
       "      <th>TV</th>\n",
       "      <td>150340.4200</td>\n",
       "    </tr>\n",
       "    <tr>\n",
       "      <th>TV - HH</th>\n",
       "      <td>27497.8525</td>\n",
       "    </tr>\n",
       "  </tbody>\n",
       "</table>\n",
       "</div>"
      ],
      "text/plain": [
       "                    value\n",
       "type                     \n",
       "Radio - P12+   33694.7630\n",
       "TV            150340.4200\n",
       "TV - HH        27497.8525"
      ]
     },
     "execution_count": 38,
     "metadata": {},
     "output_type": "execute_result"
    }
   ],
   "source": [
    "porcentaje_value=archivo[['type','value']].groupby(['type']).sum()\n",
    "porcentaje_value"
   ]
  },
  {
   "cell_type": "code",
   "execution_count": 39,
   "metadata": {},
   "outputs": [
    {
     "data": {
      "text/plain": [
       "<matplotlib.legend.Legend at 0x7f94646d34a8>"
      ]
     },
     "execution_count": 39,
     "metadata": {},
     "output_type": "execute_result"
    },
    {
     "data": {
      "image/png": "[encoded data removed]",
      "text/plain": [
       "<Figure size 432x288 with 1 Axes>"
      ]
     },
     "metadata": {},
     "output_type": "display_data"
    }
   ],
   "source": [
    "plt.pie(porcentaje_value\n",
    "        ,autopct='%1.1f%%',shadow=True,labels=porcentaje_value.index,startangle=90,radius=0.8)\n",
    "plt.legend(loc=0)"
   ]
  },
  {
   "cell_type": "code",
   "execution_count": null,
   "metadata": {},
   "outputs": [],
   "source": []
  },
  {
   "cell_type": "markdown",
   "metadata": {},
   "source": [
    "# **FINAL...**"
   ]
  }
 ],
 "metadata": {
  "kernelspec": {
   "display_name": "Python 3",
   "language": "python",
   "name": "python3"
  },
  "language_info": {
   "codemirror_mode": {
    "name": "ipython",
    "version": 3
   },
   "file_extension": ".py",
   "mimetype": "text/x-python",
   "name": "python",
   "nbconvert_exporter": "python",
   "pygments_lexer": "ipython3",
   "version": "3.7.1"
  }
 },
 "nbformat": 4,
 "nbformat_minor": 2
}
